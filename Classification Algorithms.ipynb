{
 "cells": [
  {
   "cell_type": "code",
   "execution_count": 1,
   "id": "ae9fc994",
   "metadata": {},
   "outputs": [],
   "source": [
    "import torch\n",
    "import numpy as np\n",
    "import pandas as pd\n",
    "from sklearn.preprocessing import MinMaxScaler\n",
    "from sklearn.model_selection import train_test_split \n",
    "from sklearn.metrics import accuracy_score\n",
    "from sklearn.utils import shuffle\n",
    "from scipy.spatial import distance\n",
    "import cvxopt \n",
    "import copy"
   ]
  },
  {
   "cell_type": "markdown",
   "id": "c540048a",
   "metadata": {},
   "source": [
    "## Dataset Analysis\n"
   ]
  },
  {
   "cell_type": "code",
   "execution_count": 2,
   "id": "b9666e8c",
   "metadata": {},
   "outputs": [
    {
     "data": {
      "text/html": [
       "<div>\n",
       "<style scoped>\n",
       "    .dataframe tbody tr th:only-of-type {\n",
       "        vertical-align: middle;\n",
       "    }\n",
       "\n",
       "    .dataframe tbody tr th {\n",
       "        vertical-align: top;\n",
       "    }\n",
       "\n",
       "    .dataframe thead th {\n",
       "        text-align: right;\n",
       "    }\n",
       "</style>\n",
       "<table border=\"1\" class=\"dataframe\">\n",
       "  <thead>\n",
       "    <tr style=\"text-align: right;\">\n",
       "      <th></th>\n",
       "      <th>Age</th>\n",
       "      <th>Sex</th>\n",
       "      <th>BP</th>\n",
       "      <th>Cholesterol</th>\n",
       "      <th>Na_to_K</th>\n",
       "      <th>Drug</th>\n",
       "    </tr>\n",
       "  </thead>\n",
       "  <tbody>\n",
       "    <tr>\n",
       "      <th>0</th>\n",
       "      <td>23</td>\n",
       "      <td>F</td>\n",
       "      <td>HIGH</td>\n",
       "      <td>HIGH</td>\n",
       "      <td>25.355</td>\n",
       "      <td>DrugY</td>\n",
       "    </tr>\n",
       "    <tr>\n",
       "      <th>1</th>\n",
       "      <td>47</td>\n",
       "      <td>M</td>\n",
       "      <td>LOW</td>\n",
       "      <td>HIGH</td>\n",
       "      <td>13.093</td>\n",
       "      <td>drugC</td>\n",
       "    </tr>\n",
       "    <tr>\n",
       "      <th>2</th>\n",
       "      <td>47</td>\n",
       "      <td>M</td>\n",
       "      <td>LOW</td>\n",
       "      <td>HIGH</td>\n",
       "      <td>10.114</td>\n",
       "      <td>drugC</td>\n",
       "    </tr>\n",
       "    <tr>\n",
       "      <th>3</th>\n",
       "      <td>28</td>\n",
       "      <td>F</td>\n",
       "      <td>NORMAL</td>\n",
       "      <td>HIGH</td>\n",
       "      <td>7.798</td>\n",
       "      <td>drugX</td>\n",
       "    </tr>\n",
       "    <tr>\n",
       "      <th>4</th>\n",
       "      <td>61</td>\n",
       "      <td>F</td>\n",
       "      <td>LOW</td>\n",
       "      <td>HIGH</td>\n",
       "      <td>18.043</td>\n",
       "      <td>DrugY</td>\n",
       "    </tr>\n",
       "  </tbody>\n",
       "</table>\n",
       "</div>"
      ],
      "text/plain": [
       "   Age Sex      BP Cholesterol  Na_to_K   Drug\n",
       "0   23   F    HIGH        HIGH   25.355  DrugY\n",
       "1   47   M     LOW        HIGH   13.093  drugC\n",
       "2   47   M     LOW        HIGH   10.114  drugC\n",
       "3   28   F  NORMAL        HIGH    7.798  drugX\n",
       "4   61   F     LOW        HIGH   18.043  DrugY"
      ]
     },
     "execution_count": 2,
     "metadata": {},
     "output_type": "execute_result"
    }
   ],
   "source": [
    "data = pd.read_csv('./drug_classification/drug200.csv')\n",
    "data.head()\n"
   ]
  },
  {
   "cell_type": "code",
   "execution_count": null,
   "id": "dbd04852",
   "metadata": {},
   "outputs": [],
   "source": []
  },
  {
   "cell_type": "code",
   "execution_count": 3,
   "id": "f5f8f74c",
   "metadata": {},
   "outputs": [],
   "source": [
    "data['Sex'].replace(['F','M'],[0,1],inplace=True)\n",
    "data['BP'].replace(['HIGH','NORMAL','LOW'],[0,1,2],inplace=True)\n",
    "data['Cholesterol'].replace(['NORMAL','HIGH'],[0,1],inplace=True)\n",
    "data['Drug'].replace(['drugA','drugB','drugC','drugX','DrugY'],[0,1,2,3,4],inplace=True)\n"
   ]
  },
  {
   "cell_type": "code",
   "execution_count": 4,
   "id": "ea4117ed",
   "metadata": {},
   "outputs": [],
   "source": [
    "X = np.array(data.iloc[:,:-1])\n",
    "y = np.array(data.iloc[:,-1])\n",
    "\n",
    "X_train,X_test,y_train,y_test = train_test_split(X,y,test_size=0.3,random_state=42)"
   ]
  },
  {
   "cell_type": "code",
   "execution_count": null,
   "id": "9983e1f0",
   "metadata": {},
   "outputs": [],
   "source": []
  },
  {
   "cell_type": "markdown",
   "id": "27136a3d",
   "metadata": {},
   "source": [
    "### SVC"
   ]
  },
  {
   "cell_type": "code",
   "execution_count": 5,
   "id": "ae32ff0b",
   "metadata": {},
   "outputs": [],
   "source": [
    "class SVM:\n",
    "    linear = lambda x1,x2,c=0: x1@x2.T\n",
    "    poly = lambda x1,x2,Q=5: (1+x1@x2.T)**Q\n",
    "    rbf = lambda x1,x2, y=10 : np.exp(-y*distance.cdist(x1,x2,'sqeuclidean'))\n",
    "    kernel_funs = {'linear': linear,'poly':poly,'rbf':rbf}\n",
    "    \n",
    "    def __init__(self,kernel='linear',C=1,k=2):\n",
    "        self.kernel_str = kernel\n",
    "        self.kernel = SVM.kernel_funs[kernel]\n",
    "        self.C = C\n",
    "        self.k = k\n",
    "        \n",
    "        self.X,self.y = None,None\n",
    "        self.alphas = None\n",
    "        \n",
    "        self.multiclass = False\n",
    "        self.clfs = []\n",
    "        \n",
    "        \n",
    "        \n",
    "        "
   ]
  },
  {
   "cell_type": "code",
   "execution_count": 6,
   "id": "243e6511",
   "metadata": {},
   "outputs": [],
   "source": [
    "SVMClass = lambda func: setattr(SVM, func.__name__,func) or func"
   ]
  },
  {
   "cell_type": "code",
   "execution_count": 7,
   "id": "0ed28ece",
   "metadata": {},
   "outputs": [],
   "source": [
    "@SVMClass\n",
    "def fit(self,X,y,eval_train=False):\n",
    "    if len(np.unique(y)) > 2:\n",
    "        self.multiclass = True\n",
    "        return self.multi_fit(X,y,eval_train)\n",
    "    if set(np.unique(y)) == {0,1}: y[y==0] = -1\n",
    "    \n",
    "    self.y = y.reshape(-1,1).astype(np.double)\n",
    "    self.X = X\n",
    "    N = X.shape[0]\n",
    "    \n",
    "    self.K = self.kernel(X,X,self.k)\n",
    "    \n",
    "    P = cvxopt.matrix(self.y@self.y.T*self.K)\n",
    "    q = cvxopt.matrix(-(np.ones((N,1))))\n",
    "    \n",
    "    A = cvxopt.matrix(self.y.T)\n",
    "    b = cvxopt.matrix(np.zeros(1))\n",
    "    \n",
    "    G = cvxopt.matrix(np.vstack((-np.identity(N),np.identity(N))))\n",
    "    h = cvxopt.matrix(np.vstack((np.zeros((N,1)),np.ones((N,1))*self.C)))\n",
    "    \n",
    "    cvxopt.solvers.options['show_progress'] = False\n",
    "    sol = cvxopt.solvers.qp(P,q,G,h,A,b)\n",
    "    self.alphas = np.array(sol['x'])\n",
    "    \n",
    "    self.is_sv = ((self.alphas -1e-3 >0)&(self.alphas<=self.C)).squeeze()\n",
    "    self.margin_sv = np.argmax((0<self.alphas-1e-3)&(self.alphas<self.C-1e-3))\n",
    "    \n",
    "    if eval_train:\n",
    "        print(f\"Finished training with accuracy{self.evaluate(X,y)}\")\n",
    "        \n",
    "    \n",
    "@SVMClass\n",
    "def predict(self,X_t):\n",
    "    if self.multiclass: return self.multi_predict(X_t)\n",
    "\n",
    "    xs,ys = self.X[self.margin_sv,np.newaxis], self.y[self.margin_sv]\n",
    "    \n",
    "    alphas,y,X = self.alphas[self.is_sv],self.y[self.is_sv], self.X[self.is_sv]\n",
    "    b = ys - np.sum(alphas*y*self.kernel(X,xs,self.k),axis=0)\n",
    "    \n",
    "    score = np.sum(alphas*y*self.kernel(X,X_t,self.k),axis=0) + b\n",
    "    \n",
    "    return np.sign(score).astype(int),score"
   ]
  },
  {
   "cell_type": "code",
   "execution_count": 8,
   "id": "0845cca1",
   "metadata": {},
   "outputs": [],
   "source": [
    "@SVMClass\n",
    "def evaluate(self, X,y):  \n",
    "    outputs, _ = self.predict(X)\n",
    "    accuracy = np.sum(outputs == y) / len(y)\n",
    "    return round(accuracy, 2)"
   ]
  },
  {
   "cell_type": "code",
   "execution_count": 9,
   "id": "f60a7486",
   "metadata": {},
   "outputs": [],
   "source": [
    "@SVMClass\n",
    "def multi_fit(self, X, y, eval_train=False):\n",
    "    self.k = len(np.unique(y))      # number of classes\n",
    "    # for each pair of classes\n",
    "    for i in range(self.k):\n",
    "        # get the data for the pair\n",
    "        Xs, Ys = X, copy.copy(y)\n",
    "        # change the labels to -1 and 1\n",
    "        Ys[Ys!=i], Ys[Ys==i] = -1, +1\n",
    "        # fit the classifier\n",
    "        clf = SVM(kernel=self.kernel_str, C=self.C, k=self.k)\n",
    "        clf.fit(Xs, Ys)\n",
    "        # save the classifier\n",
    "        self.clfs.append(clf)\n",
    "    if eval_train:  \n",
    "        print(f\"Finished training with accuracy {self.evaluate(X, y)}\")\n",
    "\n",
    "@SVMClass\n",
    "def multi_predict(self, X):\n",
    "    # get the predictions from all classifiers\n",
    "    N = X.shape[0]\n",
    "    preds = np.zeros((N, self.k))\n",
    "    for i, clf in enumerate(self.clfs):\n",
    "        _, preds[:, i] = clf.predict(X)\n",
    "    \n",
    "    # get the argmax and the corresponding score\n",
    "    return np.argmax(preds, axis=1), np.max(preds, axis=1)"
   ]
  },
  {
   "cell_type": "code",
   "execution_count": 10,
   "id": "e308ffb6",
   "metadata": {},
   "outputs": [
    {
     "ename": "ValueError",
     "evalue": "Rank(A) < p or Rank([P; A; G]) < n",
     "output_type": "error",
     "traceback": [
      "\u001b[0;31m---------------------------------------------------------------------------\u001b[0m",
      "\u001b[0;31mArithmeticError\u001b[0m                           Traceback (most recent call last)",
      "File \u001b[0;32m~/miniconda3/envs/defdetr/lib/python3.8/site-packages/cvxopt/misc.py:1429\u001b[0m, in \u001b[0;36mkkt_chol2.<locals>.factor\u001b[0;34m(W, H, Df)\u001b[0m\n\u001b[1;32m   1428\u001b[0m \u001b[38;5;28;01mif\u001b[39;00m \u001b[38;5;28mtype\u001b[39m(F[\u001b[38;5;124m'\u001b[39m\u001b[38;5;124mS\u001b[39m\u001b[38;5;124m'\u001b[39m]) \u001b[38;5;129;01mis\u001b[39;00m matrix: \n\u001b[0;32m-> 1429\u001b[0m     \u001b[43mlapack\u001b[49m\u001b[38;5;241;43m.\u001b[39;49m\u001b[43mpotrf\u001b[49m\u001b[43m(\u001b[49m\u001b[43mF\u001b[49m\u001b[43m[\u001b[49m\u001b[38;5;124;43m'\u001b[39;49m\u001b[38;5;124;43mS\u001b[39;49m\u001b[38;5;124;43m'\u001b[39;49m\u001b[43m]\u001b[49m\u001b[43m)\u001b[49m \n\u001b[1;32m   1430\u001b[0m \u001b[38;5;28;01melse\u001b[39;00m:\n",
      "\u001b[0;31mArithmeticError\u001b[0m: 85",
      "\nDuring handling of the above exception, another exception occurred:\n",
      "\u001b[0;31mArithmeticError\u001b[0m                           Traceback (most recent call last)",
      "File \u001b[0;32m~/miniconda3/envs/defdetr/lib/python3.8/site-packages/cvxopt/coneprog.py:2065\u001b[0m, in \u001b[0;36mconeqp\u001b[0;34m(P, q, G, h, dims, A, b, initvals, kktsolver, xnewcopy, xdot, xaxpy, xscal, ynewcopy, ydot, yaxpy, yscal, **kwargs)\u001b[0m\n\u001b[1;32m   2064\u001b[0m \u001b[38;5;28;01mfor\u001b[39;00m rti \u001b[38;5;129;01min\u001b[39;00m W[\u001b[38;5;124m'\u001b[39m\u001b[38;5;124mrti\u001b[39m\u001b[38;5;124m'\u001b[39m]: rti[::rti\u001b[38;5;241m.\u001b[39msize[\u001b[38;5;241m0\u001b[39m]\u001b[38;5;241m+\u001b[39m\u001b[38;5;241m1\u001b[39m ] \u001b[38;5;241m=\u001b[39m \u001b[38;5;241m1.0\u001b[39m\n\u001b[0;32m-> 2065\u001b[0m \u001b[38;5;28;01mtry\u001b[39;00m: f \u001b[38;5;241m=\u001b[39m \u001b[43mkktsolver\u001b[49m\u001b[43m(\u001b[49m\u001b[43mW\u001b[49m\u001b[43m)\u001b[49m\n\u001b[1;32m   2066\u001b[0m \u001b[38;5;28;01mexcept\u001b[39;00m \u001b[38;5;167;01mArithmeticError\u001b[39;00m:\n",
      "File \u001b[0;32m~/miniconda3/envs/defdetr/lib/python3.8/site-packages/cvxopt/coneprog.py:1981\u001b[0m, in \u001b[0;36mconeqp.<locals>.kktsolver\u001b[0;34m(W)\u001b[0m\n\u001b[1;32m   1980\u001b[0m \u001b[38;5;28;01mdef\u001b[39;00m \u001b[38;5;21mkktsolver\u001b[39m(W):\n\u001b[0;32m-> 1981\u001b[0m     \u001b[38;5;28;01mreturn\u001b[39;00m \u001b[43mfactor\u001b[49m\u001b[43m(\u001b[49m\u001b[43mW\u001b[49m\u001b[43m,\u001b[49m\u001b[43m \u001b[49m\u001b[43mP\u001b[49m\u001b[43m)\u001b[49m\n",
      "File \u001b[0;32m~/miniconda3/envs/defdetr/lib/python3.8/site-packages/cvxopt/misc.py:1444\u001b[0m, in \u001b[0;36mkkt_chol2.<locals>.factor\u001b[0;34m(W, H, Df)\u001b[0m\n\u001b[1;32m   1443\u001b[0m \u001b[38;5;28;01mif\u001b[39;00m \u001b[38;5;28mtype\u001b[39m(F[\u001b[38;5;124m'\u001b[39m\u001b[38;5;124mS\u001b[39m\u001b[38;5;124m'\u001b[39m]) \u001b[38;5;129;01mis\u001b[39;00m matrix: \n\u001b[0;32m-> 1444\u001b[0m     \u001b[43mlapack\u001b[49m\u001b[38;5;241;43m.\u001b[39;49m\u001b[43mpotrf\u001b[49m\u001b[43m(\u001b[49m\u001b[43mF\u001b[49m\u001b[43m[\u001b[49m\u001b[38;5;124;43m'\u001b[39;49m\u001b[38;5;124;43mS\u001b[39;49m\u001b[38;5;124;43m'\u001b[39;49m\u001b[43m]\u001b[49m\u001b[43m)\u001b[49m \n\u001b[1;32m   1445\u001b[0m \u001b[38;5;28;01melse\u001b[39;00m:\n",
      "\u001b[0;31mArithmeticError\u001b[0m: 94",
      "\nDuring handling of the above exception, another exception occurred:\n",
      "\u001b[0;31mValueError\u001b[0m                                Traceback (most recent call last)",
      "Cell \u001b[0;32mIn[10], line 12\u001b[0m\n\u001b[1;32m      6\u001b[0m \u001b[38;5;66;03m# X, y = make_classification(n_samples=2500, n_features=5, \u001b[39;00m\n\u001b[1;32m      7\u001b[0m \u001b[38;5;66;03m#                            n_redundant=0, n_informative=5, \u001b[39;00m\n\u001b[1;32m      8\u001b[0m \u001b[38;5;66;03m#                            n_classes=2,  class_sep=0.3)\u001b[39;00m\n\u001b[1;32m      9\u001b[0m \n\u001b[1;32m     10\u001b[0m \u001b[38;5;66;03m# Test Implemented SVM\u001b[39;00m\n\u001b[1;32m     11\u001b[0m svm \u001b[38;5;241m=\u001b[39m SVM(kernel\u001b[38;5;241m=\u001b[39m\u001b[38;5;124m'\u001b[39m\u001b[38;5;124mpoly\u001b[39m\u001b[38;5;124m'\u001b[39m, k\u001b[38;5;241m=\u001b[39m\u001b[38;5;241m1\u001b[39m)\n\u001b[0;32m---> 12\u001b[0m \u001b[43msvm\u001b[49m\u001b[38;5;241;43m.\u001b[39;49m\u001b[43mfit\u001b[49m\u001b[43m(\u001b[49m\u001b[43mX_train\u001b[49m\u001b[43m,\u001b[49m\u001b[43m \u001b[49m\u001b[43my_train\u001b[49m\u001b[43m,\u001b[49m\u001b[43m \u001b[49m\u001b[43meval_train\u001b[49m\u001b[38;5;241;43m=\u001b[39;49m\u001b[38;5;28;43;01mTrue\u001b[39;49;00m\u001b[43m)\u001b[49m\n\u001b[1;32m     14\u001b[0m y_pred, _ \u001b[38;5;241m=\u001b[39m svm\u001b[38;5;241m.\u001b[39mpredict(X_test)\n\u001b[1;32m     15\u001b[0m \u001b[38;5;28mprint\u001b[39m(\u001b[38;5;124mf\u001b[39m\u001b[38;5;124m\"\u001b[39m\u001b[38;5;124mAccuracy: \u001b[39m\u001b[38;5;132;01m{\u001b[39;00mnp\u001b[38;5;241m.\u001b[39msum(y_test\u001b[38;5;241m==\u001b[39my_pred)\u001b[38;5;241m/\u001b[39my\u001b[38;5;241m.\u001b[39mshape[\u001b[38;5;241m0\u001b[39m]\u001b[38;5;132;01m}\u001b[39;00m\u001b[38;5;124m\"\u001b[39m)\n",
      "Cell \u001b[0;32mIn[7], line 5\u001b[0m, in \u001b[0;36mfit\u001b[0;34m(self, X, y, eval_train)\u001b[0m\n\u001b[1;32m      3\u001b[0m \u001b[38;5;28;01mif\u001b[39;00m \u001b[38;5;28mlen\u001b[39m(np\u001b[38;5;241m.\u001b[39munique(y)) \u001b[38;5;241m>\u001b[39m \u001b[38;5;241m2\u001b[39m:\n\u001b[1;32m      4\u001b[0m     \u001b[38;5;28mself\u001b[39m\u001b[38;5;241m.\u001b[39mmulticlass \u001b[38;5;241m=\u001b[39m \u001b[38;5;28;01mTrue\u001b[39;00m\n\u001b[0;32m----> 5\u001b[0m     \u001b[38;5;28;01mreturn\u001b[39;00m \u001b[38;5;28;43mself\u001b[39;49m\u001b[38;5;241;43m.\u001b[39;49m\u001b[43mmulti_fit\u001b[49m\u001b[43m(\u001b[49m\u001b[43mX\u001b[49m\u001b[43m,\u001b[49m\u001b[43my\u001b[49m\u001b[43m,\u001b[49m\u001b[43meval_train\u001b[49m\u001b[43m)\u001b[49m\n\u001b[1;32m      6\u001b[0m \u001b[38;5;28;01mif\u001b[39;00m \u001b[38;5;28mset\u001b[39m(np\u001b[38;5;241m.\u001b[39munique(y)) \u001b[38;5;241m==\u001b[39m {\u001b[38;5;241m0\u001b[39m,\u001b[38;5;241m1\u001b[39m}: y[y\u001b[38;5;241m==\u001b[39m\u001b[38;5;241m0\u001b[39m] \u001b[38;5;241m=\u001b[39m \u001b[38;5;241m-\u001b[39m\u001b[38;5;241m1\u001b[39m\n\u001b[1;32m      8\u001b[0m \u001b[38;5;28mself\u001b[39m\u001b[38;5;241m.\u001b[39my \u001b[38;5;241m=\u001b[39m y\u001b[38;5;241m.\u001b[39mreshape(\u001b[38;5;241m-\u001b[39m\u001b[38;5;241m1\u001b[39m,\u001b[38;5;241m1\u001b[39m)\u001b[38;5;241m.\u001b[39mastype(np\u001b[38;5;241m.\u001b[39mdouble)\n",
      "Cell \u001b[0;32mIn[9], line 12\u001b[0m, in \u001b[0;36mmulti_fit\u001b[0;34m(self, X, y, eval_train)\u001b[0m\n\u001b[1;32m     10\u001b[0m \u001b[38;5;66;03m# fit the classifier\u001b[39;00m\n\u001b[1;32m     11\u001b[0m clf \u001b[38;5;241m=\u001b[39m SVM(kernel\u001b[38;5;241m=\u001b[39m\u001b[38;5;28mself\u001b[39m\u001b[38;5;241m.\u001b[39mkernel_str, C\u001b[38;5;241m=\u001b[39m\u001b[38;5;28mself\u001b[39m\u001b[38;5;241m.\u001b[39mC, k\u001b[38;5;241m=\u001b[39m\u001b[38;5;28mself\u001b[39m\u001b[38;5;241m.\u001b[39mk)\n\u001b[0;32m---> 12\u001b[0m \u001b[43mclf\u001b[49m\u001b[38;5;241;43m.\u001b[39;49m\u001b[43mfit\u001b[49m\u001b[43m(\u001b[49m\u001b[43mXs\u001b[49m\u001b[43m,\u001b[49m\u001b[43m \u001b[49m\u001b[43mYs\u001b[49m\u001b[43m)\u001b[49m\n\u001b[1;32m     13\u001b[0m \u001b[38;5;66;03m# save the classifier\u001b[39;00m\n\u001b[1;32m     14\u001b[0m \u001b[38;5;28mself\u001b[39m\u001b[38;5;241m.\u001b[39mclfs\u001b[38;5;241m.\u001b[39mappend(clf)\n",
      "Cell \u001b[0;32mIn[7], line 24\u001b[0m, in \u001b[0;36mfit\u001b[0;34m(self, X, y, eval_train)\u001b[0m\n\u001b[1;32m     21\u001b[0m h \u001b[38;5;241m=\u001b[39m cvxopt\u001b[38;5;241m.\u001b[39mmatrix(np\u001b[38;5;241m.\u001b[39mvstack((np\u001b[38;5;241m.\u001b[39mzeros((N,\u001b[38;5;241m1\u001b[39m)),np\u001b[38;5;241m.\u001b[39mones((N,\u001b[38;5;241m1\u001b[39m))\u001b[38;5;241m*\u001b[39m\u001b[38;5;28mself\u001b[39m\u001b[38;5;241m.\u001b[39mC)))\n\u001b[1;32m     23\u001b[0m cvxopt\u001b[38;5;241m.\u001b[39msolvers\u001b[38;5;241m.\u001b[39moptions[\u001b[38;5;124m'\u001b[39m\u001b[38;5;124mshow_progress\u001b[39m\u001b[38;5;124m'\u001b[39m] \u001b[38;5;241m=\u001b[39m \u001b[38;5;28;01mFalse\u001b[39;00m\n\u001b[0;32m---> 24\u001b[0m sol \u001b[38;5;241m=\u001b[39m \u001b[43mcvxopt\u001b[49m\u001b[38;5;241;43m.\u001b[39;49m\u001b[43msolvers\u001b[49m\u001b[38;5;241;43m.\u001b[39;49m\u001b[43mqp\u001b[49m\u001b[43m(\u001b[49m\u001b[43mP\u001b[49m\u001b[43m,\u001b[49m\u001b[43mq\u001b[49m\u001b[43m,\u001b[49m\u001b[43mG\u001b[49m\u001b[43m,\u001b[49m\u001b[43mh\u001b[49m\u001b[43m,\u001b[49m\u001b[43mA\u001b[49m\u001b[43m,\u001b[49m\u001b[43mb\u001b[49m\u001b[43m)\u001b[49m\n\u001b[1;32m     25\u001b[0m \u001b[38;5;28mself\u001b[39m\u001b[38;5;241m.\u001b[39malphas \u001b[38;5;241m=\u001b[39m np\u001b[38;5;241m.\u001b[39marray(sol[\u001b[38;5;124m'\u001b[39m\u001b[38;5;124mx\u001b[39m\u001b[38;5;124m'\u001b[39m])\n\u001b[1;32m     27\u001b[0m \u001b[38;5;28mself\u001b[39m\u001b[38;5;241m.\u001b[39mis_sv \u001b[38;5;241m=\u001b[39m ((\u001b[38;5;28mself\u001b[39m\u001b[38;5;241m.\u001b[39malphas \u001b[38;5;241m-\u001b[39m\u001b[38;5;241m1e-3\u001b[39m \u001b[38;5;241m>\u001b[39m\u001b[38;5;241m0\u001b[39m)\u001b[38;5;241m&\u001b[39m(\u001b[38;5;28mself\u001b[39m\u001b[38;5;241m.\u001b[39malphas\u001b[38;5;241m<\u001b[39m\u001b[38;5;241m=\u001b[39m\u001b[38;5;28mself\u001b[39m\u001b[38;5;241m.\u001b[39mC))\u001b[38;5;241m.\u001b[39msqueeze()\n",
      "File \u001b[0;32m~/miniconda3/envs/defdetr/lib/python3.8/site-packages/cvxopt/coneprog.py:4485\u001b[0m, in \u001b[0;36mqp\u001b[0;34m(P, q, G, h, A, b, solver, kktsolver, initvals, **kwargs)\u001b[0m\n\u001b[1;32m   4475\u001b[0m         pinfres, dinfres \u001b[38;5;241m=\u001b[39m \u001b[38;5;28;01mNone\u001b[39;00m, \u001b[38;5;28;01mNone\u001b[39;00m\n\u001b[1;32m   4477\u001b[0m     \u001b[38;5;28;01mreturn\u001b[39;00m {\u001b[38;5;124m'\u001b[39m\u001b[38;5;124mstatus\u001b[39m\u001b[38;5;124m'\u001b[39m: status, \u001b[38;5;124m'\u001b[39m\u001b[38;5;124mx\u001b[39m\u001b[38;5;124m'\u001b[39m: x, \u001b[38;5;124m'\u001b[39m\u001b[38;5;124ms\u001b[39m\u001b[38;5;124m'\u001b[39m: s, \u001b[38;5;124m'\u001b[39m\u001b[38;5;124my\u001b[39m\u001b[38;5;124m'\u001b[39m: y, \u001b[38;5;124m'\u001b[39m\u001b[38;5;124mz\u001b[39m\u001b[38;5;124m'\u001b[39m: z,\n\u001b[1;32m   4478\u001b[0m         \u001b[38;5;124m'\u001b[39m\u001b[38;5;124mprimal objective\u001b[39m\u001b[38;5;124m'\u001b[39m: pcost, \u001b[38;5;124m'\u001b[39m\u001b[38;5;124mdual objective\u001b[39m\u001b[38;5;124m'\u001b[39m: dcost,\n\u001b[1;32m   4479\u001b[0m         \u001b[38;5;124m'\u001b[39m\u001b[38;5;124mgap\u001b[39m\u001b[38;5;124m'\u001b[39m: gap, \u001b[38;5;124m'\u001b[39m\u001b[38;5;124mrelative gap\u001b[39m\u001b[38;5;124m'\u001b[39m: relgap,\n\u001b[0;32m   (...)\u001b[0m\n\u001b[1;32m   4482\u001b[0m         \u001b[38;5;124m'\u001b[39m\u001b[38;5;124mresidual as primal infeasibility certificate\u001b[39m\u001b[38;5;124m'\u001b[39m: pinfres,\n\u001b[1;32m   4483\u001b[0m         \u001b[38;5;124m'\u001b[39m\u001b[38;5;124mresidual as dual infeasibility certificate\u001b[39m\u001b[38;5;124m'\u001b[39m: dinfres}\n\u001b[0;32m-> 4485\u001b[0m \u001b[38;5;28;01mreturn\u001b[39;00m \u001b[43mconeqp\u001b[49m\u001b[43m(\u001b[49m\u001b[43mP\u001b[49m\u001b[43m,\u001b[49m\u001b[43m \u001b[49m\u001b[43mq\u001b[49m\u001b[43m,\u001b[49m\u001b[43m \u001b[49m\u001b[43mG\u001b[49m\u001b[43m,\u001b[49m\u001b[43m \u001b[49m\u001b[43mh\u001b[49m\u001b[43m,\u001b[49m\u001b[43m \u001b[49m\u001b[38;5;28;43;01mNone\u001b[39;49;00m\u001b[43m,\u001b[49m\u001b[43m \u001b[49m\u001b[43mA\u001b[49m\u001b[43m,\u001b[49m\u001b[43m  \u001b[49m\u001b[43mb\u001b[49m\u001b[43m,\u001b[49m\u001b[43m \u001b[49m\u001b[43minitvals\u001b[49m\u001b[43m,\u001b[49m\u001b[43m \u001b[49m\u001b[43mkktsolver\u001b[49m\u001b[43m \u001b[49m\u001b[38;5;241;43m=\u001b[39;49m\u001b[43m \u001b[49m\u001b[43mkktsolver\u001b[49m\u001b[43m,\u001b[49m\u001b[43m \u001b[49m\u001b[43moptions\u001b[49m\u001b[43m \u001b[49m\u001b[38;5;241;43m=\u001b[39;49m\u001b[43m \u001b[49m\u001b[43moptions\u001b[49m\u001b[43m)\u001b[49m\n",
      "File \u001b[0;32m~/miniconda3/envs/defdetr/lib/python3.8/site-packages/cvxopt/coneprog.py:2067\u001b[0m, in \u001b[0;36mconeqp\u001b[0;34m(P, q, G, h, dims, A, b, initvals, kktsolver, xnewcopy, xdot, xaxpy, xscal, ynewcopy, ydot, yaxpy, yscal, **kwargs)\u001b[0m\n\u001b[1;32m   2065\u001b[0m \u001b[38;5;28;01mtry\u001b[39;00m: f \u001b[38;5;241m=\u001b[39m kktsolver(W)\n\u001b[1;32m   2066\u001b[0m \u001b[38;5;28;01mexcept\u001b[39;00m \u001b[38;5;167;01mArithmeticError\u001b[39;00m:\n\u001b[0;32m-> 2067\u001b[0m     \u001b[38;5;28;01mraise\u001b[39;00m \u001b[38;5;167;01mValueError\u001b[39;00m(\u001b[38;5;124m\"\u001b[39m\u001b[38;5;124mRank(A) < p or Rank([P; A; G]) < n\u001b[39m\u001b[38;5;124m\"\u001b[39m)\n\u001b[1;32m   2070\u001b[0m \u001b[38;5;66;03m# Solve\u001b[39;00m\n\u001b[1;32m   2071\u001b[0m \u001b[38;5;66;03m#\u001b[39;00m\n\u001b[1;32m   2072\u001b[0m \u001b[38;5;66;03m#     [ P   A'  G' ]   [ x ]   [ -q ]\u001b[39;00m\n\u001b[1;32m   2073\u001b[0m \u001b[38;5;66;03m#     [ A   0   0  ] * [ y ] = [  b ].\u001b[39;00m\n\u001b[1;32m   2074\u001b[0m \u001b[38;5;66;03m#     [ G   0  -I  ]   [ z ]   [  h ]\u001b[39;00m\n\u001b[1;32m   2076\u001b[0m xcopy(q, x)\n",
      "\u001b[0;31mValueError\u001b[0m: Rank(A) < p or Rank([P; A; G]) < n"
     ]
    }
   ],
   "source": [
    "from sklearn.datasets import make_classification\n",
    "import numpy as np\n",
    "\n",
    "# Load the dataset\n",
    "np.random.seed(1)\n",
    "# X, y = make_classification(n_samples=2500, n_features=5, \n",
    "#                            n_redundant=0, n_informative=5, \n",
    "#                            n_classes=2,  class_sep=0.3)\n",
    "\n",
    "# Test Implemented SVM\n",
    "svm = SVM(kernel='poly', k=1)\n",
    "svm.fit(X_train, y_train, eval_train=True)\n",
    "\n",
    "y_pred, _ = svm.predict(X_test)\n",
    "print(f\"Accuracy: {np.sum(y_test==y_pred)/y.shape[0]}\")\n",
    "\n",
    "# Test with Scikit\n",
    "from sklearn.svm import SVC\n",
    "clf = SVC(kernel='linear', C=20, gamma=3)\n",
    "clf.fit(X_train, y_train)\n",
    "y_pred = clf.predict(X_test)\n",
    "print(f\"Accuracy: {sum(y_test==y_pred)/y.shape[0]}\")  "
   ]
  },
  {
   "cell_type": "code",
   "execution_count": 37,
   "id": "a290eae1",
   "metadata": {},
   "outputs": [
    {
     "name": "stdout",
     "output_type": "stream",
     "text": [
      "Finished training with accuracy 0.65\n",
      "Accuracy: 0.65\n",
      "Accuracy: 0.65\n"
     ]
    }
   ],
   "source": [
    "from sklearn.datasets import make_classification\n",
    "import numpy as np\n",
    "\n",
    "# Load the dataset\n",
    "np.random.seed(1)\n",
    "X, y = make_classification(n_samples=500, n_features=2, \n",
    "                           n_redundant=0, n_informative=2, \n",
    "                           n_classes=4, n_clusters_per_class=1,  \n",
    "                           class_sep=0.3)\n",
    "\n",
    "# Test SVM\n",
    "svm = SVM(kernel='rbf', k=4)\n",
    "svm.fit(X, y, eval_train=True)\n",
    "\n",
    "y_pred = svm.predict(X)\n",
    "print(f\"Accuracy: {np.sum(y==y_pred)/y.shape[0]}\") # 0.65\n",
    "\n",
    "# Test with Scikit\n",
    "from sklearn.multiclass import OneVsRestClassifier\n",
    "from sklearn.svm import SVC\n",
    "\n",
    "clf = OneVsRestClassifier(SVC(kernel='rbf', C=1, gamma=4)).fit(X, y)\n",
    "y_pred = clf.predict(X)\n",
    "print(f\"Accuracy: {sum(y==y_pred)/y.shape[0]}\")    # 0.65"
   ]
  },
  {
   "cell_type": "code",
   "execution_count": null,
   "id": "a69bc3b0",
   "metadata": {},
   "outputs": [],
   "source": []
  },
  {
   "cell_type": "markdown",
   "id": "66514de6",
   "metadata": {},
   "source": [
    "## KNN"
   ]
  },
  {
   "cell_type": "code",
   "execution_count": 28,
   "id": "92fc2dd7",
   "metadata": {},
   "outputs": [],
   "source": [
    "class KNN:\n",
    "    \n",
    "    def __init__(self,k=3,distance='sqeuclidean'):\n",
    "        self.k = k\n",
    "        self.distance = distance\n",
    "    \n",
    "    def fit(self,X,y):\n",
    "        self.X = X\n",
    "        self.y = y\n",
    "    \n",
    "    def predict(self,X_1):\n",
    "        y_pred = np.zeros((X_1.shape[0]))\n",
    "        distances=distance.cdist(X_1,self.X,self.distance)   \n",
    "        min_distances = np.argpartition(distances,self.k,axis=-1)[:,0:self.k]\n",
    "\n",
    "        for i in range(min_distances.shape[0]):\n",
    "            classes = self.y[min_distances[i,:]]\n",
    "            clas = {}\n",
    "            for cls in classes:\n",
    "                if cls in clas:\n",
    "                    clas[cls] += 1\n",
    "                else:\n",
    "                    clas[cls] = 1\n",
    "            y_pred = max(clas,key= lambda k: clas.get(k))\n",
    "        return y_pred"
   ]
  },
  {
   "cell_type": "code",
   "execution_count": 29,
   "id": "c07211eb",
   "metadata": {},
   "outputs": [],
   "source": [
    "knn = KNN(k=4,distance='euclidean')\n",
    "knn.fit(X_train,y_train)\n",
    "y_pred = knn.predict(X_test)"
   ]
  },
  {
   "cell_type": "code",
   "execution_count": 30,
   "id": "f655e1d7",
   "metadata": {},
   "outputs": [
    {
     "name": "stdout",
     "output_type": "stream",
     "text": [
      "Accuracy: 0.43333333333333335\n"
     ]
    }
   ],
   "source": [
    "print(f\"Accuracy: {np.sum(y_test==y_pred)/y_test.shape[0]}\") "
   ]
  },
  {
   "cell_type": "markdown",
   "id": "d6bbe43b",
   "metadata": {},
   "source": [
    "## Logistic Regression"
   ]
  },
  {
   "cell_type": "code",
   "execution_count": 1,
   "id": "244ad5cd",
   "metadata": {},
   "outputs": [],
   "source": [
    "class LR:\n",
    "    def __init__(self):\n",
    "        self.sol = None\n",
    "    \n",
    "    def GD(self,X,y):\n",
    "        value = \n",
    "        \n",
    "    def fit(self,X,y,init='random',lr=0.01):\n",
    "        if init == 'random':\n",
    "            self.sol = np.random.rand((X.shape[1],1))\n",
    "        else:\n",
    "            self.sol = np.zeros((X.shape[1],1))\n",
    "        \n",
    "        "
   ]
  }
 ],
 "metadata": {
  "kernelspec": {
   "display_name": "Python 3 (ipykernel)",
   "language": "python",
   "name": "python3"
  },
  "language_info": {
   "codemirror_mode": {
    "name": "ipython",
    "version": 3
   },
   "file_extension": ".py",
   "mimetype": "text/x-python",
   "name": "python",
   "nbconvert_exporter": "python",
   "pygments_lexer": "ipython3",
   "version": "3.8.17"
  }
 },
 "nbformat": 4,
 "nbformat_minor": 5
}
